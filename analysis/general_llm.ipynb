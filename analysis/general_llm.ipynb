{
 "cells": [
  {
   "cell_type": "code",
   "execution_count": 14,
   "id": "4098277e",
   "metadata": {},
   "outputs": [
    {
     "data": {
      "text/plain": [
       "True"
      ]
     },
     "execution_count": 14,
     "metadata": {},
     "output_type": "execute_result"
    }
   ],
   "source": [
    "import sys\n",
    "import os\n",
    "\n",
    "# Add the parent directory to the path so the package is importable\n",
    "sys.path.append(os.path.abspath(\"..\"))\n",
    "\n",
    "from llm_data_quality_assistant.pipeline import Pipeline\n",
    "from llm_data_quality_assistant.enums import Models, CorruptionTypes\n",
    "import pandas as pd\n",
    "from pprint import pprint\n",
    "from dotenv import load_dotenv\n",
    "import numpy as np\n",
    "\n",
    "load_dotenv()"
   ]
  },
  {
   "cell_type": "code",
   "execution_count": 15,
   "id": "c2275800",
   "metadata": {},
   "outputs": [
    {
     "name": "stdout",
     "output_type": "stream",
     "text": [
      "                        dicom_uid  rows  columns        series_desc modality\n",
      "0   1.2.840.166348.444565830.2739  1024     1024  PELVIS_ULTRASOUND       US\n",
      "1   1.2.840.166348.444565830.2739  1024     1024  PELVIS_ULTRASOUND       US\n",
      "2   1.2.840.166348.444565830.2739  1024     1024  PELVIS_ULTRASOUND       US\n",
      "3   1.2.840.166348.444565830.2739  1024     1024  PELVIS_ULTRASOUND       US\n",
      "4   1.2.840.166348.444565830.2739  1024     1024  PELVIS_ULTRASOUND       US\n",
      "5    1.2.840.178211.688829522.637  2048     2048        ABDOMEN_KUB       XR\n",
      "6    1.2.840.178211.688829522.637  2048     2048        ABDOMEN_KUB       XR\n",
      "7    1.2.840.178211.688829522.637  2048     2048        ABDOMEN_KUB       XR\n",
      "8    1.2.840.178211.688829522.637  2048     2048        ABDOMEN_KUB       XR\n",
      "9    1.2.840.178211.688829522.637  2048     2048        ABDOMEN_KUB       XR\n",
      "10  1.2.840.285501.600086396.5032   512      512      ABDOMEN_W_CON       CT\n",
      "11  1.2.840.285501.600086396.5032   512      512      ABDOMEN_W_CON       CT\n",
      "12  1.2.840.285501.600086396.5032   512      512      ABDOMEN_W_CON       CT\n",
      "13  1.2.840.285501.600086396.5032   512      512      ABDOMEN_W_CON       CT\n",
      "14  1.2.840.285501.600086396.5032   512      512      ABDOMEN_W_CON       CT\n",
      "15  1.2.840.382511.108756150.8848   512      512  CHEST_PE_PROTOCOL       CT\n",
      "16  1.2.840.382511.108756150.8848   512      512  CHEST_PE_PROTOCOL       CT\n",
      "17  1.2.840.382511.108756150.8848   512      512  CHEST_PE_PROTOCOL       CT\n",
      "18  1.2.840.382511.108756150.8848   512      512  CHEST_PE_PROTOCOL       CT\n",
      "19  1.2.840.382511.108756150.8848   512      512  CHEST_PE_PROTOCOL       CT\n",
      "20   1.2.840.414409.93803138.7993  2048     2048       FOOT_LATERAL       XR\n",
      "21   1.2.840.414409.93803138.7993  2048     2048       FOOT_LATERAL       XR\n",
      "22   1.2.840.414409.93803138.7993  2048     2048       FOOT_LATERAL       XR\n",
      "23   1.2.840.414409.93803138.7993  2048     2048       FOOT_LATERAL       XR\n",
      "24   1.2.840.414409.93803138.7993  2048     2048       FOOT_LATERAL       XR\n",
      "25  1.2.840.431243.214684544.9328  2048     2048            HAND_AP       XR\n",
      "26  1.2.840.431243.214684544.9328  2048     2048            HAND_AP       XR\n",
      "27  1.2.840.431243.214684544.9328  2048     2048            HAND_AP       XR\n",
      "28  1.2.840.431243.214684544.9328  2048     2048            HAND_AP       XR\n",
      "29  1.2.840.431243.214684544.9328  2048     2048            HAND_AP       XR\n",
      "30   1.2.840.588030.38009097.1579  2048     2048           CHEST_PA       XR\n",
      "31   1.2.840.588030.38009097.1579  2048     2048           CHEST_PA       XR\n",
      "32   1.2.840.588030.38009097.1579  2048     2048           CHEST_PA       XR\n",
      "33   1.2.840.588030.38009097.1579  2048     2048           CHEST_PA       XR\n",
      "34   1.2.840.588030.38009097.1579  2048     2048           CHEST_PA       XR\n",
      "35  1.2.840.588402.765606324.5613   512      512      SINUS_CORONAL       CT\n",
      "36  1.2.840.588402.765606324.5613   512      512      SINUS_CORONAL       CT\n",
      "37  1.2.840.588402.765606324.5613   512      512      SINUS_CORONAL       CT\n",
      "38  1.2.840.588402.765606324.5613   512      512      SINUS_CORONAL       CT\n",
      "39  1.2.840.588402.765606324.5613   512      512      SINUS_CORONAL       CT\n",
      "40  1.2.840.717539.706621359.1289  2048     2048           CHEST_PA       XR\n",
      "41  1.2.840.717539.706621359.1289  2048     2048           CHEST_PA       XR\n",
      "42  1.2.840.717539.706621359.1289  2048     2048           CHEST_PA       XR\n",
      "43  1.2.840.717539.706621359.1289  2048     2048           CHEST_PA       XR\n",
      "44  1.2.840.717539.706621359.1289  2048     2048           CHEST_PA       XR\n",
      "45  1.2.840.740439.136605933.5326   512      512       BRAIN_WO_CON       CT\n",
      "46  1.2.840.740439.136605933.5326   512      512       BRAIN_WO_CON       CT\n",
      "47  1.2.840.740439.136605933.5326   512      512       BRAIN_WO_CON       CT\n",
      "48  1.2.840.740439.136605933.5326   512      512       BRAIN_WO_CON       CT\n",
      "49  1.2.840.740439.136605933.5326   512      512       BRAIN_WO_CON       CT\n"
     ]
    }
   ],
   "source": [
    "gold_standard = pd.read_csv(\"../datasets/llm_dataset/Radiology_modality_sample.csv\")[:10]\n",
    "\n",
    "# Duplicate and append the DataFrame 5 times\n",
    "gold_standard_extended = pd.concat([gold_standard.copy() for _ in range(5)], ignore_index=True)\n",
    "gold_standard_extended = pd.concat([group for _, group in gold_standard_extended.groupby(\"dicom_uid\")], ignore_index=True)\n",
    "print(gold_standard_extended)"
   ]
  },
  {
   "cell_type": "code",
   "execution_count": 16,
   "id": "e60f63df",
   "metadata": {},
   "outputs": [],
   "source": [
    "corrupted_datasets = Pipeline.generate_corrupted_datasets(\n",
    "    dataset=gold_standard_extended,\n",
    "    cell_corruption_types=[CorruptionTypes.CellCorruptionTypes.NULL, CorruptionTypes.CellCorruptionTypes.OUTLIER],\n",
    "    row_corruption_types=[],\n",
    "    columns_to_exclude=[\"dicom_uid\"],\n",
    "    severity=0.15,\n",
    "    output_size=1\n",
    ")\n"
   ]
  },
  {
   "cell_type": "code",
   "execution_count": 17,
   "id": "6fbf6682",
   "metadata": {},
   "outputs": [],
   "source": [
    "merged_df = Pipeline.merge_with_llm(dataset=corrupted_datasets[0], primary_key=\"dicom_uid\",model_name=Models.GeminiModels.GEMINI_2_0_FLASH)\n"
   ]
  },
  {
   "cell_type": "code",
   "execution_count": 18,
   "id": "c09e2890",
   "metadata": {},
   "outputs": [
    {
     "name": "stdout",
     "output_type": "stream",
     "text": [
      "{'accuracy': 1.0,\n",
      " 'column_names': ['dicom_uid', 'rows', 'columns', 'series_desc', 'modality'],\n",
      " 'f1_score': 1.0,\n",
      " 'false_negative': 0,\n",
      " 'false_negative_rate': 0.0,\n",
      " 'false_positive': 0,\n",
      " 'false_positive_rate': 0.0,\n",
      " 'num_columns': 5,\n",
      " 'num_rows': 50,\n",
      " 'precision': 1.0,\n",
      " 'recall': 1.0,\n",
      " 'true_negative': 220,\n",
      " 'true_positive': 30}\n"
     ]
    }
   ],
   "source": [
    "\n",
    "\n",
    "stats_micro = Pipeline.evaluate_micro(gold_standard=gold_standard_extended, cleaned_dataset=merged_df, corrupted_dataset=corrupted_datasets[0])\n",
    "pprint(stats_micro)"
   ]
  },
  {
   "cell_type": "code",
   "execution_count": null,
   "id": "a084b833",
   "metadata": {},
   "outputs": [],
   "source": []
  }
 ],
 "metadata": {
  "kernelspec": {
   "display_name": "venv",
   "language": "python",
   "name": "python3"
  },
  "language_info": {
   "codemirror_mode": {
    "name": "ipython",
    "version": 3
   },
   "file_extension": ".py",
   "mimetype": "text/x-python",
   "name": "python",
   "nbconvert_exporter": "python",
   "pygments_lexer": "ipython3",
   "version": "3.13.3"
  }
 },
 "nbformat": 4,
 "nbformat_minor": 5
}
