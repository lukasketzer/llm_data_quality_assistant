{
 "cells": [
  {
   "cell_type": "code",
   "execution_count": 5,
   "id": "4098277e",
   "metadata": {},
   "outputs": [
    {
     "data": {
      "text/plain": [
       "True"
      ]
     },
     "execution_count": 5,
     "metadata": {},
     "output_type": "execute_result"
    }
   ],
   "source": [
    "import sys\n",
    "import os\n",
    "\n",
    "# Add the parent directory to the path so the package is importable\n",
    "sys.path.append(os.path.abspath(\"..\"))\n",
    "\n",
    "from llm_data_quality_assistant.pipeline import Pipeline\n",
    "from llm_data_quality_assistant.enums import Models, CorruptionTypes\n",
    "import pandas as pd\n",
    "from pprint import pprint\n",
    "from dotenv import load_dotenv\n",
    "import numpy as np\n",
    "import jupyter_helper_functions\n",
    "import string\n",
    "import time\n",
    "\n",
    "load_dotenv()"
   ]
  },
  {
   "cell_type": "code",
   "execution_count": 6,
   "id": "c2275800",
   "metadata": {},
   "outputs": [
    {
     "name": "stdout",
     "output_type": "stream",
     "text": [
      "                         dicom_uid  rows  columns          series_desc  \\\n",
      "0    1.2.840.109739.671568005.4240  2048     2048         FOOT_LATERAL   \n",
      "1    1.2.840.109739.671568005.4240  2048     2048         FOOT_LATERAL   \n",
      "2    1.2.840.109739.671568005.4240  2048     2048         FOOT_LATERAL   \n",
      "3    1.2.840.109739.671568005.4240  2048     2048         FOOT_LATERAL   \n",
      "4    1.2.840.109739.671568005.4240  2048     2048         FOOT_LATERAL   \n",
      "..                             ...   ...      ...                  ...   \n",
      "495  1.2.840.991648.163637892.3869   256      256  SPINE_LUMBAR_SAG_T2   \n",
      "496  1.2.840.991648.163637892.3869   256      256  SPINE_LUMBAR_SAG_T2   \n",
      "497  1.2.840.991648.163637892.3869   256      256  SPINE_LUMBAR_SAG_T2   \n",
      "498  1.2.840.991648.163637892.3869   256      256  SPINE_LUMBAR_SAG_T2   \n",
      "499  1.2.840.991648.163637892.3869   256      256  SPINE_LUMBAR_SAG_T2   \n",
      "\n",
      "    modality  \n",
      "0         XR  \n",
      "1         XR  \n",
      "2         XR  \n",
      "3         XR  \n",
      "4         XR  \n",
      "..       ...  \n",
      "495       MR  \n",
      "496       MR  \n",
      "497       MR  \n",
      "498       MR  \n",
      "499       MR  \n",
      "\n",
      "[500 rows x 5 columns]\n"
     ]
    }
   ],
   "source": [
    "gold_standard = pd.read_csv(\n",
    "    \"../datasets/self_generated_dataset/Radiology_modality_sample.csv\"\n",
    ")\n",
    "\n",
    "# Duplicate and append the DataFrame 5 times\n",
    "corrupted_versions = 5\n",
    "gold_standard_extended = pd.concat([gold_standard.copy() for _ in range(corrupted_versions)], ignore_index=True)\n",
    "gold_standard_extended = pd.concat([group for _, group in gold_standard_extended.groupby(\"dicom_uid\")], ignore_index=True)\n",
    "print(gold_standard_extended)"
   ]
  },
  {
   "cell_type": "code",
   "execution_count": 7,
   "id": "e60f63df",
   "metadata": {},
   "outputs": [],
   "source": [
    "corrupted_datasets = Pipeline.generate_corrupted_datasets(\n",
    "    dataset=gold_standard_extended,\n",
    "    cell_corruption_types=[CorruptionTypes.CellCorruptionTypes.NULL, CorruptionTypes.CellCorruptionTypes.OUTLIER, CorruptionTypes.CellCorruptionTypes.TYPO],\n",
    "    row_corruption_types=[CorruptionTypes.RowCorruptionTypes.DELETE_ROWS],\n",
    "    columns_to_exclude=[\"dicom_uid\"],\n",
    "    severity=0.15,\n",
    "    output_size=1\n",
    ")\n",
    "corrupted_datasets[0].to_csv(\n",
    "\"../datasets/self_generated_dataset/Radiology_modality_sample_corrupt.csv\", index=False, header=True, encoding=\"utf-8\"\n",
    ")\n"
   ]
  },
  {
   "cell_type": "code",
   "execution_count": 8,
   "id": "6fbf6682",
   "metadata": {},
   "outputs": [
    {
     "name": "stderr",
     "output_type": "stream",
     "text": [
      "Merging groups with LLM: 100%|██████████| 100/100 [03:10<00:00,  1.90s/it]\n",
      "\n"
     ]
    }
   ],
   "source": [
    "rpm = 0\n",
    "import string\n",
    "string.punctuation = string.punctuation.replace(\"'\", \"\")  # Remove single quotes from punctuation\n",
    "model_name = Models.OpenAIModels.GPT_4_1_MINI\n",
    "context_rows = 50\n",
    "file_name = jupyter_helper_functions.sanitize_filename(f\"{model_name.value}_{corrupted_versions}_copies_{context_rows}_rows_context\")\n",
    "\n",
    "additional_context = f\"\"\"\n",
    "{corrupted_datasets[0].sample(n=context_rows).to_string(index=False)}\n",
    "\"\"\"\n",
    "\n",
    "# Merge/clean with LLM\n",
    "merged_df, time_taken = jupyter_helper_functions.merge_with_llm_timed(\n",
    "    dataset=corrupted_datasets[0],\n",
    "    primary_key=\"dicom_uid\",\n",
    "    model=model_name,\n",
    "    rpm=rpm,\n",
    "    additional_prompt=additional_context\n",
    ")\n"
   ]
  },
  {
   "cell_type": "code",
   "execution_count": 9,
   "id": "3dfb1f28",
   "metadata": {},
   "outputs": [],
   "source": [
    "jupyter_helper_functions.save_dataframe_csv(merged_df, f\"../analysis/repairs/radiology/{file_name}_repair.csv\")"
   ]
  },
  {
   "cell_type": "code",
   "execution_count": 10,
   "id": "c09e2890",
   "metadata": {},
   "outputs": [
    {
     "name": "stdout",
     "output_type": "stream",
     "text": [
      "{'accuracy': 1.0,\n",
      " 'column_names': ['dicom_uid', 'rows', 'columns', 'series_desc', 'modality'],\n",
      " 'f1_score': 1.0,\n",
      " 'false_negative': 0,\n",
      " 'false_negative_rate': 0.0,\n",
      " 'false_positive': 0,\n",
      " 'false_positive_rate': 0.0,\n",
      " 'num_columns': 5,\n",
      " 'num_rows': 500,\n",
      " 'precision': 1.0,\n",
      " 'recall': 1.0,\n",
      " 'time_taken': 190.03296327590942,\n",
      " 'true_negative': 2210,\n",
      " 'true_positive': 290}\n",
      "{'column_names': ['dicom_uid', 'rows', 'columns', 'series_desc', 'modality'],\n",
      " 'num_columns': 5,\n",
      " 'num_rows': 500,\n",
      " 'stats': [{'accuracy': 1.0,\n",
      "            'column_name': 'dicom_uid',\n",
      "            'f1_score': 0.0,\n",
      "            'false_negative': 0,\n",
      "            'false_negative_rate': 0.0,\n",
      "            'false_positive': 0,\n",
      "            'false_positive_rate': 0.0,\n",
      "            'num_entries': 500,\n",
      "            'precision': 0.0,\n",
      "            'recall': 0.0,\n",
      "            'true_negative': 500,\n",
      "            'true_positive': 0},\n",
      "           {'accuracy': 1.0,\n",
      "            'column_name': 'rows',\n",
      "            'f1_score': 1.0,\n",
      "            'false_negative': 0,\n",
      "            'false_negative_rate': 0.0,\n",
      "            'false_positive': 0,\n",
      "            'false_positive_rate': 0.0,\n",
      "            'num_entries': 500,\n",
      "            'precision': 1.0,\n",
      "            'recall': 1.0,\n",
      "            'true_negative': 444,\n",
      "            'true_positive': 56},\n",
      "           {'accuracy': 1.0,\n",
      "            'column_name': 'columns',\n",
      "            'f1_score': 1.0,\n",
      "            'false_negative': 0,\n",
      "            'false_negative_rate': 0.0,\n",
      "            'false_positive': 0,\n",
      "            'false_positive_rate': 0.0,\n",
      "            'num_entries': 500,\n",
      "            'precision': 1.0,\n",
      "            'recall': 1.0,\n",
      "            'true_negative': 436,\n",
      "            'true_positive': 64},\n",
      "           {'accuracy': 1.0,\n",
      "            'column_name': 'series_desc',\n",
      "            'f1_score': 1.0,\n",
      "            'false_negative': 0,\n",
      "            'false_negative_rate': 0.0,\n",
      "            'false_positive': 0,\n",
      "            'false_positive_rate': 0.0,\n",
      "            'num_entries': 500,\n",
      "            'precision': 1.0,\n",
      "            'recall': 1.0,\n",
      "            'true_negative': 410,\n",
      "            'true_positive': 90},\n",
      "           {'accuracy': 1.0,\n",
      "            'column_name': 'modality',\n",
      "            'f1_score': 1.0,\n",
      "            'false_negative': 0,\n",
      "            'false_negative_rate': 0.0,\n",
      "            'false_positive': 0,\n",
      "            'false_positive_rate': 0.0,\n",
      "            'num_entries': 500,\n",
      "            'precision': 1.0,\n",
      "            'recall': 1.0,\n",
      "            'true_negative': 420,\n",
      "            'true_positive': 80}],\n",
      " 'time_taken': 190.03296327590942}\n"
     ]
    }
   ],
   "source": [
    "import json\n",
    "\n",
    "\n",
    "# Evaluate results\n",
    "jupyter_helper_functions.standardize_and_evaluate(\n",
    "    gold_standard=gold_standard_extended,\n",
    "    merged_df=merged_df,\n",
    "    corrupt_dataset=corrupted_datasets[0],\n",
    "    primary_key=\"dicom_uid\",\n",
    "    time_delta=time_taken,\n",
    "    results_dir=f\"../analysis/results/radiology_self_generated/\",\n",
    "    file_name=file_name,\n",
    ")"
   ]
  },
  {
   "cell_type": "code",
   "execution_count": null,
   "id": "a084b833",
   "metadata": {},
   "outputs": [],
   "source": []
  }
 ],
 "metadata": {
  "kernelspec": {
   "display_name": "venv",
   "language": "python",
   "name": "python3"
  },
  "language_info": {
   "codemirror_mode": {
    "name": "ipython",
    "version": 3
   },
   "file_extension": ".py",
   "mimetype": "text/x-python",
   "name": "python",
   "nbconvert_exporter": "python",
   "pygments_lexer": "ipython3",
   "version": "3.13.3"
  }
 },
 "nbformat": 4,
 "nbformat_minor": 5
}
