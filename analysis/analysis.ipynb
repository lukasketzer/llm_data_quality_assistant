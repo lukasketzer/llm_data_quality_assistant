{
  "cells": [
    {
      "cell_type": "code",
      "execution_count": 1,
      "id": "5f2dadd0",
      "metadata": {},
      "outputs": [],
      "source": [
        "import sys\n",
        "import os\n",
        "\n",
        "# Add the parent directory to the path so the package is importable\n",
        "sys.path.append(os.path.abspath(\"..\"))\n"
      ]
    },
    {
      "cell_type": "code",
      "execution_count": 2,
      "id": "344691ed",
      "metadata": {},
      "outputs": [],
      "source": [
        "from llm_data_quality_assistant import pipeline\n",
        "from llm_data_quality_assistant.corruptor import RowCorruptionTypes, CellCorruptionTypes\n",
        "from llm_data_quality_assistant.enums import Models\n",
        "import pandas as pd\n",
        "from pprint import pprint"
      ]
    },
    {
      "cell_type": "code",
      "execution_count": 3,
      "id": "0784e3dc",
      "metadata": {},
      "outputs": [
        {
          "name": "stdout",
          "output_type": "stream",
          "text": [
            "Corruptig datasets....\n",
            "Corruptig done.\n",
            "Start merging...\n"
          ]
        },
        {
          "ename": "ResponseError",
          "evalue": "model requires more system memory (4.6 GiB) than is available (3.7 GiB) (status code: 500)",
          "output_type": "error",
          "traceback": [
            "\u001b[31m---------------------------------------------------------------------------\u001b[39m",
            "\u001b[31mResponseError\u001b[39m                             Traceback (most recent call last)",
            "\u001b[36mCell\u001b[39m\u001b[36m \u001b[39m\u001b[32mIn[3]\u001b[39m\u001b[32m, line 21\u001b[39m\n\u001b[32m     19\u001b[39m \u001b[38;5;66;03m# Example: merge the corrupted datasets using LLM\u001b[39;00m\n\u001b[32m     20\u001b[39m \u001b[38;5;28mprint\u001b[39m(\u001b[33m\"\u001b[39m\u001b[33mStart merging...\u001b[39m\u001b[33m\"\u001b[39m)\n\u001b[32m---> \u001b[39m\u001b[32m21\u001b[39m merged_df = \u001b[43mp\u001b[49m\u001b[43m.\u001b[49m\u001b[43mmerge_with_llm\u001b[49m\u001b[43m(\u001b[49m\u001b[43mcorrupted_datasets\u001b[49m\u001b[43m,\u001b[49m\u001b[43m \u001b[49m\u001b[43mmodel_name\u001b[49m\u001b[43m=\u001b[49m\u001b[43mModels\u001b[49m\u001b[43m.\u001b[49m\u001b[43mOllamaModels\u001b[49m\u001b[43m.\u001b[49m\u001b[43mQWEN3_4B\u001b[49m\u001b[43m)\u001b[49m\n\u001b[32m     22\u001b[39m \u001b[38;5;28mprint\u001b[39m(\u001b[33m\"\u001b[39m\u001b[33mMerging done.\u001b[39m\u001b[33m\"\u001b[39m)\n\u001b[32m     24\u001b[39m stats = p.evaluate_micro(merged_df, corrupted_coords)\n",
            "\u001b[36mFile \u001b[39m\u001b[32m~/Workspace/Uni/DataEngineering/bpc_project/llm_data_quality_assistant/pipeline.py:50\u001b[39m, in \u001b[36mPipeline.merge_with_llm\u001b[39m\u001b[34m(self, datasets, model_name)\u001b[39m\n\u001b[32m     43\u001b[39m \u001b[38;5;28;01mdef\u001b[39;00m\u001b[38;5;250m \u001b[39m\u001b[34mmerge_with_llm\u001b[39m(\n\u001b[32m     44\u001b[39m     \u001b[38;5;28mself\u001b[39m,\n\u001b[32m     45\u001b[39m     datasets: \u001b[38;5;28mlist\u001b[39m[pd.DataFrame],\n\u001b[32m   (...)\u001b[39m\u001b[32m     48\u001b[39m     ) = Models.GeminiModels.GEMINI_2_0_FLASH,\n\u001b[32m     49\u001b[39m ):\n\u001b[32m---> \u001b[39m\u001b[32m50\u001b[39m     merged_df = \u001b[43mmerge_dataset_in_chunks_with_llm\u001b[49m\u001b[43m(\u001b[49m\n\u001b[32m     51\u001b[39m \u001b[43m        \u001b[49m\u001b[43mmodel_name\u001b[49m\u001b[43m,\u001b[49m\u001b[43m \u001b[49m\u001b[43mdatasets\u001b[49m\u001b[43m,\u001b[49m\u001b[43m \u001b[49m\u001b[43mchunk_size\u001b[49m\u001b[43m=\u001b[49m\u001b[32;43m50\u001b[39;49m\n\u001b[32m     52\u001b[39m \u001b[43m    \u001b[49m\u001b[43m)\u001b[49m\n\u001b[32m     53\u001b[39m     \u001b[38;5;28;01mreturn\u001b[39;00m merged_df\n",
            "\u001b[36mFile \u001b[39m\u001b[32m~/Workspace/Uni/DataEngineering/bpc_project/llm_data_quality_assistant/llm_integration.py:148\u001b[39m, in \u001b[36mmerge_dataset_in_chunks_with_llm\u001b[39m\u001b[34m(model_name, datasets, chunk_size)\u001b[39m\n\u001b[32m    146\u001b[39m     end = \u001b[38;5;28mmin\u001b[39m(start + chunk_size, num_rows)\n\u001b[32m    147\u001b[39m     chunk_dfs = [df.iloc[start:end] \u001b[38;5;28;01mfor\u001b[39;00m df \u001b[38;5;129;01min\u001b[39;00m datasets]\n\u001b[32m--> \u001b[39m\u001b[32m148\u001b[39m     merged_chunk = \u001b[43mmerge_datasets_group_by_rows\u001b[49m\u001b[43m(\u001b[49m\u001b[43mmodel_name\u001b[49m\u001b[43m,\u001b[49m\u001b[43m \u001b[49m\u001b[43mchunk_dfs\u001b[49m\u001b[43m)\u001b[49m\n\u001b[32m    149\u001b[39m     merged_chunks.append(merged_chunk)\n\u001b[32m    150\u001b[39m merged_df = pd.concat(merged_chunks, ignore_index=\u001b[38;5;28;01mTrue\u001b[39;00m)\n",
            "\u001b[36mFile \u001b[39m\u001b[32m~/Workspace/Uni/DataEngineering/bpc_project/llm_data_quality_assistant/llm_integration.py:82\u001b[39m, in \u001b[36mmerge_datasets_group_by_rows\u001b[39m\u001b[34m(model_name, datasets)\u001b[39m\n\u001b[32m     80\u001b[39m message = \u001b[33m\"\u001b[39m\u001b[33m\"\u001b[39m\n\u001b[32m     81\u001b[39m merged_csv = model.generate(prompt, stream=\u001b[38;5;28;01mTrue\u001b[39;00m)\n\u001b[32m---> \u001b[39m\u001b[32m82\u001b[39m \u001b[43m\u001b[49m\u001b[38;5;28;43;01mfor\u001b[39;49;00m\u001b[43m \u001b[49m\u001b[43mchunk\u001b[49m\u001b[43m \u001b[49m\u001b[38;5;129;43;01min\u001b[39;49;00m\u001b[43m \u001b[49m\u001b[43mmerged_csv\u001b[49m\u001b[43m:\u001b[49m\n\u001b[32m     83\u001b[39m \u001b[43m    \u001b[49m\u001b[38;5;28;43mprint\u001b[39;49m\u001b[43m(\u001b[49m\u001b[43mchunk\u001b[49m\u001b[43m,\u001b[49m\u001b[43m \u001b[49m\u001b[43mend\u001b[49m\u001b[43m=\u001b[49m\u001b[33;43m\"\u001b[39;49m\u001b[33;43m\"\u001b[39;49m\u001b[43m,\u001b[49m\u001b[43m \u001b[49m\u001b[43mflush\u001b[49m\u001b[43m=\u001b[49m\u001b[38;5;28;43;01mTrue\u001b[39;49;00m\u001b[43m)\u001b[49m\n\u001b[32m     84\u001b[39m \u001b[43m    \u001b[49m\u001b[43mmessage\u001b[49m\u001b[43m \u001b[49m\u001b[43m+\u001b[49m\u001b[43m=\u001b[49m\u001b[43m \u001b[49m\u001b[43mchunk\u001b[49m\n",
            "\u001b[36mFile \u001b[39m\u001b[32m~/Workspace/Uni/DataEngineering/bpc_project/llm_data_quality_assistant/llm_models.py:65\u001b[39m, in \u001b[36m<genexpr>\u001b[39m\u001b[34m(.0)\u001b[39m\n\u001b[32m     61\u001b[39m \u001b[38;5;28;01mif\u001b[39;00m stream:\n\u001b[32m     62\u001b[39m     response = ollama.generate(\n\u001b[32m     63\u001b[39m         model=\u001b[38;5;28mself\u001b[39m.model_name.value, prompt=prompt, stream=\u001b[38;5;28;01mTrue\u001b[39;00m\n\u001b[32m     64\u001b[39m     )\n\u001b[32m---> \u001b[39m\u001b[32m65\u001b[39m     \u001b[38;5;28;01mreturn\u001b[39;00m \u001b[43m(\u001b[49m\u001b[43mchunk\u001b[49m\u001b[43m.\u001b[49m\u001b[43mget\u001b[49m\u001b[43m(\u001b[49m\u001b[33;43m\"\u001b[39;49m\u001b[33;43mresponse\u001b[39;49m\u001b[33;43m\"\u001b[39;49m\u001b[43m,\u001b[49m\u001b[43m \u001b[49m\u001b[33;43m\"\u001b[39;49m\u001b[33;43m\"\u001b[39;49m\u001b[43m)\u001b[49m\u001b[43m \u001b[49m\u001b[38;5;28;43;01mfor\u001b[39;49;00m\u001b[43m \u001b[49m\u001b[43mchunk\u001b[49m\u001b[43m \u001b[49m\u001b[38;5;129;43;01min\u001b[39;49;00m\u001b[43m \u001b[49m\u001b[43mresponse\u001b[49m\u001b[43m)\u001b[49m\n\u001b[32m     66\u001b[39m \u001b[38;5;28;01melse\u001b[39;00m:\n\u001b[32m     67\u001b[39m     response = ollama.generate(model=\u001b[38;5;28mself\u001b[39m.model_name.value, prompt=prompt)\n",
            "\u001b[36mFile \u001b[39m\u001b[32m~/Workspace/Uni/DataEngineering/bpc_project/venv/lib/python3.13/site-packages/ollama/_client.py:168\u001b[39m, in \u001b[36mClient._request.<locals>.inner\u001b[39m\u001b[34m()\u001b[39m\n\u001b[32m    166\u001b[39m \u001b[38;5;28;01mexcept\u001b[39;00m httpx.HTTPStatusError \u001b[38;5;28;01mas\u001b[39;00m e:\n\u001b[32m    167\u001b[39m   e.response.read()\n\u001b[32m--> \u001b[39m\u001b[32m168\u001b[39m   \u001b[38;5;28;01mraise\u001b[39;00m ResponseError(e.response.text, e.response.status_code) \u001b[38;5;28;01mfrom\u001b[39;00m\u001b[38;5;250m \u001b[39m\u001b[38;5;28;01mNone\u001b[39;00m\n\u001b[32m    170\u001b[39m \u001b[38;5;28;01mfor\u001b[39;00m line \u001b[38;5;129;01min\u001b[39;00m r.iter_lines():\n\u001b[32m    171\u001b[39m   part = json.loads(line)\n",
            "\u001b[31mResponseError\u001b[39m: model requires more system memory (4.6 GiB) than is available (3.7 GiB) (status code: 500)"
          ]
        }
      ],
      "source": [
        "gold_standard = pd.read_csv(\n",
        "    \"../datasets/simple_dataset/simple_dataset.csv\"\n",
        ").head(\n",
        "    20\n",
        ")  # Load a sample of the dataset\n",
        "p = pipeline.Pipeline(gold_standard)\n",
        "\n",
        "row_corruption_types = [RowCorruptionTypes.SHUFFLE_COLUMNS]\n",
        "cell_corruption_types = [CellCorruptionTypes.OUTLIER, CellCorruptionTypes.NULL]\n",
        "print(\"Corruptig datasets....\")\n",
        "corrupted_datasets, corrupted_coords = p.generate_corrupted_datasets(\n",
        "    row_corruption_type=row_corruption_types,\n",
        "    cell_corruption_type=cell_corruption_types,\n",
        "    severity=0.5,\n",
        "    output_size=5,\n",
        ")\n",
        "print(\"Corruptig done.\")\n",
        "\n",
        "# Example: merge the corrupted datasets using LLM\n",
        "print(\"Start merging...\")\n",
        "merged_df = p.merge_with_llm(corrupted_datasets, model_name=Models.OllamaModels.QWEN3_4B)\n",
        "print(\"Merging done.\")\n",
        "\n",
        "stats = p.evaluate_micro(merged_df, corrupted_coords)\n",
        "print(\"Micro evaluation stats:\")\n",
        "pprint(stats)"
      ]
    },
    {
      "cell_type": "code",
      "execution_count": null,
      "id": "4b5819ff",
      "metadata": {},
      "outputs": [],
      "source": []
    },
    {
      "cell_type": "code",
      "execution_count": null,
      "id": "31c6c08b",
      "metadata": {},
      "outputs": [],
      "source": []
    },
    {
      "cell_type": "markdown",
      "id": "0b5ab129",
      "metadata": {},
      "source": []
    }
  ],
  "metadata": {
    "kernelspec": {
      "display_name": "venv",
      "language": "python",
      "name": "python3"
    },
    "language_info": {
      "codemirror_mode": {
        "name": "ipython",
        "version": 3
      },
      "file_extension": ".py",
      "mimetype": "text/x-python",
      "name": "python",
      "nbconvert_exporter": "python",
      "pygments_lexer": "ipython3",
      "version": "3.13.3"
    }
  },
  "nbformat": 4,
  "nbformat_minor": 5
}