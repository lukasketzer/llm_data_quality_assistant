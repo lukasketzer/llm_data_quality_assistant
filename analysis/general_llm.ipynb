{
 "cells": [
  {
   "cell_type": "code",
   "execution_count": 1,
   "id": "4098277e",
   "metadata": {},
   "outputs": [
    {
     "data": {
      "text/plain": [
       "True"
      ]
     },
     "execution_count": 1,
     "metadata": {},
     "output_type": "execute_result"
    }
   ],
   "source": [
    "import sys\n",
    "import os\n",
    "\n",
    "# Add the parent directory to the path so the package is importable\n",
    "sys.path.append(os.path.abspath(\"..\"))\n",
    "\n",
    "from llm_data_quality_assistant.pipeline import Pipeline\n",
    "from llm_data_quality_assistant.enums import Models, CorruptionTypes\n",
    "import pandas as pd\n",
    "from pprint import pprint\n",
    "from dotenv import load_dotenv\n",
    "import numpy as np\n",
    "\n",
    "load_dotenv()"
   ]
  },
  {
   "cell_type": "code",
   "execution_count": 2,
   "id": "c2275800",
   "metadata": {},
   "outputs": [
    {
     "name": "stdout",
     "output_type": "stream",
     "text": [
      "                         dicom_uid  rows  columns          series_desc  \\\n",
      "0    1.2.840.109739.671568005.4240  2048     2048         FOOT_LATERAL   \n",
      "1    1.2.840.109739.671568005.4240  2048     2048         FOOT_LATERAL   \n",
      "2    1.2.840.109739.671568005.4240  2048     2048         FOOT_LATERAL   \n",
      "3    1.2.840.109739.671568005.4240  2048     2048         FOOT_LATERAL   \n",
      "4    1.2.840.109739.671568005.4240  2048     2048         FOOT_LATERAL   \n",
      "..                             ...   ...      ...                  ...   \n",
      "495  1.2.840.991648.163637892.3869   256      256  SPINE_LUMBAR_SAG_T2   \n",
      "496  1.2.840.991648.163637892.3869   256      256  SPINE_LUMBAR_SAG_T2   \n",
      "497  1.2.840.991648.163637892.3869   256      256  SPINE_LUMBAR_SAG_T2   \n",
      "498  1.2.840.991648.163637892.3869   256      256  SPINE_LUMBAR_SAG_T2   \n",
      "499  1.2.840.991648.163637892.3869   256      256  SPINE_LUMBAR_SAG_T2   \n",
      "\n",
      "    modality  \n",
      "0         XR  \n",
      "1         XR  \n",
      "2         XR  \n",
      "3         XR  \n",
      "4         XR  \n",
      "..       ...  \n",
      "495       MR  \n",
      "496       MR  \n",
      "497       MR  \n",
      "498       MR  \n",
      "499       MR  \n",
      "\n",
      "[500 rows x 5 columns]\n"
     ]
    }
   ],
   "source": [
    "gold_standard = pd.read_csv(\"../datasets/llm_dataset/Radiology_modality_sample.csv\")\n",
    "\n",
    "# Duplicate and append the DataFrame 5 times\n",
    "gold_standard_extended = pd.concat([gold_standard.copy() for _ in range(5)], ignore_index=True)\n",
    "gold_standard_extended = pd.concat([group for _, group in gold_standard_extended.groupby(\"dicom_uid\")], ignore_index=True)\n",
    "print(gold_standard_extended)"
   ]
  },
  {
   "cell_type": "code",
   "execution_count": 3,
   "id": "e60f63df",
   "metadata": {},
   "outputs": [],
   "source": [
    "corrupted_datasets = Pipeline.generate_corrupted_datasets(\n",
    "    dataset=gold_standard_extended,\n",
    "    cell_corruption_types=[CorruptionTypes.CellCorruptionTypes.NULL, CorruptionTypes.CellCorruptionTypes.OUTLIER],\n",
    "    row_corruption_types=[],\n",
    "    columns_to_exclude=[\"dicom_uid\"],\n",
    "    severity=0.15,\n",
    "    output_size=1\n",
    ")\n"
   ]
  },
  {
   "cell_type": "code",
   "execution_count": 4,
   "id": "6fbf6682",
   "metadata": {},
   "outputs": [
    {
     "name": "stderr",
     "output_type": "stream",
     "text": [
      "Merging groups with LLM:   0%|          | 0/100 [00:00<?, ?it/s]"
     ]
    },
    {
     "name": "stderr",
     "output_type": "stream",
     "text": [
      "Merging groups with LLM: 100%|██████████| 100/100 [03:21<00:00,  2.01s/it]\n"
     ]
    }
   ],
   "source": [
    "rpm = 30\n",
    "merged_df = Pipeline.merge_with_llm(dataset=corrupted_datasets[0],rpm=rpm, primary_key=\"dicom_uid\",model_name=Models.GeminiModels.GEMINI_2_0_FLASH_LITE,  status_bar = True)\n"
   ]
  },
  {
   "cell_type": "code",
   "execution_count": null,
   "id": "a90b8be5",
   "metadata": {},
   "outputs": [],
   "source": []
  },
  {
   "cell_type": "code",
   "execution_count": 5,
   "id": "c09e2890",
   "metadata": {},
   "outputs": [
    {
     "name": "stdout",
     "output_type": "stream",
     "text": [
      "{'accuracy': 1.0,\n",
      " 'column_names': ['dicom_uid', 'rows', 'columns', 'series_desc', 'modality'],\n",
      " 'f1_score': 1.0,\n",
      " 'false_negative': 0,\n",
      " 'false_negative_rate': 0.0,\n",
      " 'false_positive': 0,\n",
      " 'false_positive_rate': 0.0,\n",
      " 'num_columns': 5,\n",
      " 'num_rows': 500,\n",
      " 'precision': 1.0,\n",
      " 'recall': 1.0,\n",
      " 'true_negative': 2200,\n",
      " 'true_positive': 300}\n",
      "{'column_names': ['dicom_uid', 'rows', 'columns', 'series_desc', 'modality'],\n",
      " 'num_columns': 5,\n",
      " 'num_rows': 500,\n",
      " 'stats': [{'accuracy': 1.0,\n",
      "            'column_name': 'dicom_uid',\n",
      "            'f1_score': 0.0,\n",
      "            'false_negative': 0,\n",
      "            'false_negative_rate': 0.0,\n",
      "            'false_positive': 0,\n",
      "            'false_positive_rate': 0.0,\n",
      "            'num_entries': 500,\n",
      "            'precision': 0.0,\n",
      "            'recall': 0.0,\n",
      "            'true_negative': 500,\n",
      "            'true_positive': 0},\n",
      "           {'accuracy': 1.0,\n",
      "            'column_name': 'rows',\n",
      "            'f1_score': 1.0,\n",
      "            'false_negative': 0,\n",
      "            'false_negative_rate': 0.0,\n",
      "            'false_positive': 0,\n",
      "            'false_positive_rate': 0.0,\n",
      "            'num_entries': 500,\n",
      "            'precision': 1.0,\n",
      "            'recall': 1.0,\n",
      "            'true_negative': 429,\n",
      "            'true_positive': 71},\n",
      "           {'accuracy': 1.0,\n",
      "            'column_name': 'columns',\n",
      "            'f1_score': 1.0,\n",
      "            'false_negative': 0,\n",
      "            'false_negative_rate': 0.0,\n",
      "            'false_positive': 0,\n",
      "            'false_positive_rate': 0.0,\n",
      "            'num_entries': 500,\n",
      "            'precision': 1.0,\n",
      "            'recall': 1.0,\n",
      "            'true_negative': 431,\n",
      "            'true_positive': 69},\n",
      "           {'accuracy': 1.0,\n",
      "            'column_name': 'series_desc',\n",
      "            'f1_score': 1.0,\n",
      "            'false_negative': 0,\n",
      "            'false_negative_rate': 0.0,\n",
      "            'false_positive': 0,\n",
      "            'false_positive_rate': 0.0,\n",
      "            'num_entries': 500,\n",
      "            'precision': 1.0,\n",
      "            'recall': 1.0,\n",
      "            'true_negative': 413,\n",
      "            'true_positive': 87},\n",
      "           {'accuracy': 1.0,\n",
      "            'column_name': 'modality',\n",
      "            'f1_score': 1.0,\n",
      "            'false_negative': 0,\n",
      "            'false_negative_rate': 0.0,\n",
      "            'false_positive': 0,\n",
      "            'false_positive_rate': 0.0,\n",
      "            'num_entries': 500,\n",
      "            'precision': 1.0,\n",
      "            'recall': 1.0,\n",
      "            'true_negative': 427,\n",
      "            'true_positive': 73}]}\n"
     ]
    }
   ],
   "source": [
    "\n",
    "\n",
    "stats_micro = Pipeline.evaluate_micro(gold_standard=gold_standard_extended, cleaned_dataset=merged_df, corrupted_dataset=corrupted_datasets[0])\n",
    "pprint(stats_micro)\n",
    "\n",
    "stats_macro = Pipeline.evaluate_macro(gold_standard=gold_standard_extended, cleaned_dataset=merged_df, corrupted_dataset=corrupted_datasets[0])\n",
    "pprint(stats_macro)"
   ]
  },
  {
   "cell_type": "code",
   "execution_count": null,
   "id": "a084b833",
   "metadata": {},
   "outputs": [],
   "source": []
  }
 ],
 "metadata": {
  "kernelspec": {
   "display_name": "venv",
   "language": "python",
   "name": "python3"
  },
  "language_info": {
   "codemirror_mode": {
    "name": "ipython",
    "version": 3
   },
   "file_extension": ".py",
   "mimetype": "text/x-python",
   "name": "python",
   "nbconvert_exporter": "python",
   "pygments_lexer": "ipython3",
   "version": "3.13.3"
  }
 },
 "nbformat": 4,
 "nbformat_minor": 5
}
