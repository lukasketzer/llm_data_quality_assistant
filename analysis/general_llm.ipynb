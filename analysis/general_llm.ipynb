{
 "cells": [
  {
   "cell_type": "code",
   "execution_count": 17,
   "id": "4098277e",
   "metadata": {},
   "outputs": [
    {
     "data": {
      "text/plain": [
       "True"
      ]
     },
     "execution_count": 17,
     "metadata": {},
     "output_type": "execute_result"
    }
   ],
   "source": [
    "import sys\n",
    "import os\n",
    "\n",
    "# Add the parent directory to the path so the package is importable\n",
    "sys.path.append(os.path.abspath(\"..\"))\n",
    "\n",
    "from llm_data_quality_assistant.pipeline import Pipeline\n",
    "from llm_data_quality_assistant.enums import Models, CorruptionTypes\n",
    "import pandas as pd\n",
    "from pprint import pprint\n",
    "from dotenv import load_dotenv\n",
    "import numpy as np\n",
    "import jupyter_helper_functions\n",
    "import string\n",
    "import time\n",
    "\n",
    "load_dotenv()"
   ]
  },
  {
   "cell_type": "code",
   "execution_count": 18,
   "id": "c2275800",
   "metadata": {},
   "outputs": [
    {
     "name": "stdout",
     "output_type": "stream",
     "text": [
      "                         dicom_uid  rows  columns          series_desc  \\\n",
      "0    1.2.840.109739.671568005.4240  2048     2048         FOOT_LATERAL   \n",
      "1    1.2.840.109739.671568005.4240  2048     2048         FOOT_LATERAL   \n",
      "2    1.2.840.109739.671568005.4240  2048     2048         FOOT_LATERAL   \n",
      "3    1.2.840.109739.671568005.4240  2048     2048         FOOT_LATERAL   \n",
      "4    1.2.840.109739.671568005.4240  2048     2048         FOOT_LATERAL   \n",
      "..                             ...   ...      ...                  ...   \n",
      "495  1.2.840.991648.163637892.3869   256      256  SPINE_LUMBAR_SAG_T2   \n",
      "496  1.2.840.991648.163637892.3869   256      256  SPINE_LUMBAR_SAG_T2   \n",
      "497  1.2.840.991648.163637892.3869   256      256  SPINE_LUMBAR_SAG_T2   \n",
      "498  1.2.840.991648.163637892.3869   256      256  SPINE_LUMBAR_SAG_T2   \n",
      "499  1.2.840.991648.163637892.3869   256      256  SPINE_LUMBAR_SAG_T2   \n",
      "\n",
      "    modality  \n",
      "0         XR  \n",
      "1         XR  \n",
      "2         XR  \n",
      "3         XR  \n",
      "4         XR  \n",
      "..       ...  \n",
      "495       MR  \n",
      "496       MR  \n",
      "497       MR  \n",
      "498       MR  \n",
      "499       MR  \n",
      "\n",
      "[500 rows x 5 columns]\n"
     ]
    }
   ],
   "source": [
    "gold_standard = pd.read_csv(\n",
    "    \"../datasets/self_generated_dataset/Radiology_modality_sample.csv\"\n",
    ")\n",
    "\n",
    "# Duplicate and append the DataFrame 5 times\n",
    "corrupted_versions = 5\n",
    "gold_standard_extended = pd.concat([gold_standard.copy() for _ in range(corrupted_versions)], ignore_index=True)\n",
    "gold_standard_extended = pd.concat([group for _, group in gold_standard_extended.groupby(\"dicom_uid\")], ignore_index=True)\n",
    "print(gold_standard_extended)"
   ]
  },
  {
   "cell_type": "code",
   "execution_count": 19,
   "id": "e60f63df",
   "metadata": {},
   "outputs": [],
   "source": [
    "corrupted_datasets = Pipeline.generate_corrupted_datasets(\n",
    "    dataset=gold_standard_extended,\n",
    "    cell_corruption_types=[CorruptionTypes.CellCorruptionTypes.NULL, CorruptionTypes.CellCorruptionTypes.OUTLIER, CorruptionTypes.CellCorruptionTypes.TYPO],\n",
    "    row_corruption_types=[CorruptionTypes.RowCorruptionTypes.DELETE_ROWS],\n",
    "    columns_to_exclude=[\"dicom_uid\"],\n",
    "    severity=0.15,\n",
    "    output_size=1\n",
    ")\n",
    "corrupted_datasets[0].to_csv(\n",
    "\"../datasets/self_generated_dataset/Radiology_modality_sample_corrupt.csv\", index=False, header=True, encoding=\"utf-8\"\n",
    ")\n"
   ]
  },
  {
   "cell_type": "code",
   "execution_count": 20,
   "id": "6fbf6682",
   "metadata": {},
   "outputs": [
    {
     "name": "stderr",
     "output_type": "stream",
     "text": [
      "Merging groups with LLM: 100%|██████████| 100/100 [02:09<00:00,  1.30s/it]\n"
     ]
    }
   ],
   "source": [
    "rpm = 0\n",
    "import string\n",
    "string.punctuation = string.punctuation.replace(\"'\", \"\")  # Remove single quotes from punctuation\n",
    "model_name = Models.OpenAIModels.GPT_4_1_MINI\n",
    "context_rows = 100\n",
    "file_name = jupyter_helper_functions.sanitize_filename(f\"{model_name.value}_{corrupted_versions}_copies_{context_rows}_rows_context\")\n",
    "\n",
    "additional_context = f\"\"\"\n",
    "{corrupted_datasets[0].sample(n=context_rows).to_string(index=False)}\n",
    "\"\"\"\n",
    "\n",
    "# Merge/clean with LLM\n",
    "merged_df, time_taken = jupyter_helper_functions.merge_with_llm_timed(\n",
    "    dataset=corrupted_datasets[0],\n",
    "    primary_key=\"dicom_uid\",\n",
    "    model=model_name,\n",
    "    rpm=rpm,\n",
    "    additional_prompt=additional_context\n",
    ")\n"
   ]
  },
  {
   "cell_type": "code",
   "execution_count": 21,
   "id": "3dfb1f28",
   "metadata": {},
   "outputs": [],
   "source": [
    "jupyter_helper_functions.save_dataframe_csv(merged_df, f\"../analysis/repairs/radiology/{file_name}_repair.csv\")"
   ]
  },
  {
   "cell_type": "code",
   "execution_count": 22,
   "id": "c09e2890",
   "metadata": {},
   "outputs": [
    {
     "name": "stdout",
     "output_type": "stream",
     "text": [
      "{'accuracy': 0.99,\n",
      " 'column_names': ['dicom_uid', 'rows', 'columns', 'series_desc', 'modality'],\n",
      " 'f1_score': 0.9584026622296173,\n",
      " 'false_negative': 6,\n",
      " 'false_negative_rate': 0.02040816326530612,\n",
      " 'false_positive': 19,\n",
      " 'false_positive_rate': 0.008612873980054397,\n",
      " 'num_columns': 5,\n",
      " 'num_rows': 500,\n",
      " 'precision': 0.9381107491856677,\n",
      " 'recall': 0.9795918367346939,\n",
      " 'time_taken': 129.63692212104797,\n",
      " 'true_negative': 2187,\n",
      " 'true_positive': 288}\n",
      "{'column_names': ['dicom_uid', 'rows', 'columns', 'series_desc', 'modality'],\n",
      " 'num_columns': 5,\n",
      " 'num_rows': 500,\n",
      " 'stats': [{'accuracy': 1.0,\n",
      "            'column_name': 'dicom_uid',\n",
      "            'f1_score': 0.0,\n",
      "            'false_negative': 0,\n",
      "            'false_negative_rate': 0.0,\n",
      "            'false_positive': 0,\n",
      "            'false_positive_rate': 0.0,\n",
      "            'num_entries': 500,\n",
      "            'precision': 0.0,\n",
      "            'recall': 0.0,\n",
      "            'true_negative': 500,\n",
      "            'true_positive': 0},\n",
      "           {'accuracy': 0.99,\n",
      "            'column_name': 'rows',\n",
      "            'f1_score': 0.9572649572649572,\n",
      "            'false_negative': 1,\n",
      "            'false_negative_rate': 0.017543859649122806,\n",
      "            'false_positive': 4,\n",
      "            'false_positive_rate': 0.009029345372460496,\n",
      "            'num_entries': 500,\n",
      "            'precision': 0.9333333333333333,\n",
      "            'recall': 0.9824561403508771,\n",
      "            'true_negative': 439,\n",
      "            'true_positive': 56},\n",
      "           {'accuracy': 0.99,\n",
      "            'column_name': 'columns',\n",
      "            'f1_score': 0.9586776859504132,\n",
      "            'false_negative': 1,\n",
      "            'false_negative_rate': 0.01694915254237288,\n",
      "            'false_positive': 4,\n",
      "            'false_positive_rate': 0.009070294784580499,\n",
      "            'num_entries': 500,\n",
      "            'precision': 0.9354838709677419,\n",
      "            'recall': 0.9830508474576272,\n",
      "            'true_negative': 437,\n",
      "            'true_positive': 58},\n",
      "           {'accuracy': 0.98,\n",
      "            'column_name': 'series_desc',\n",
      "            'f1_score': 0.95,\n",
      "            'false_negative': 3,\n",
      "            'false_negative_rate': 0.030612244897959183,\n",
      "            'false_positive': 7,\n",
      "            'false_positive_rate': 0.017412935323383085,\n",
      "            'num_entries': 500,\n",
      "            'precision': 0.9313725490196079,\n",
      "            'recall': 0.9693877551020408,\n",
      "            'true_negative': 395,\n",
      "            'true_positive': 95},\n",
      "           {'accuracy': 0.99,\n",
      "            'column_name': 'modality',\n",
      "            'f1_score': 0.9693251533742331,\n",
      "            'false_negative': 1,\n",
      "            'false_negative_rate': 0.0125,\n",
      "            'false_positive': 4,\n",
      "            'false_positive_rate': 0.009523809523809525,\n",
      "            'num_entries': 500,\n",
      "            'precision': 0.9518072289156626,\n",
      "            'recall': 0.9875,\n",
      "            'true_negative': 416,\n",
      "            'true_positive': 79}],\n",
      " 'time_taken': 129.63692212104797}\n"
     ]
    }
   ],
   "source": [
    "import json\n",
    "\n",
    "\n",
    "# Evaluate results\n",
    "jupyter_helper_functions.standardize_and_evaluate(\n",
    "    gold_standard=gold_standard_extended,\n",
    "    merged_df=merged_df,\n",
    "    corrupt_dataset=corrupted_datasets[0],\n",
    "    primary_key=\"dicom_uid\",\n",
    "    time_delta=time_taken,\n",
    "    results_dir=f\"../analysis/results/radiology_self_generated/\",\n",
    "    file_name=file_name,\n",
    ")"
   ]
  },
  {
   "cell_type": "code",
   "execution_count": null,
   "id": "a084b833",
   "metadata": {},
   "outputs": [],
   "source": []
  }
 ],
 "metadata": {
  "kernelspec": {
   "display_name": "venv",
   "language": "python",
   "name": "python3"
  },
  "language_info": {
   "codemirror_mode": {
    "name": "ipython",
    "version": 3
   },
   "file_extension": ".py",
   "mimetype": "text/x-python",
   "name": "python",
   "nbconvert_exporter": "python",
   "pygments_lexer": "ipython3",
   "version": "3.13.5"
  }
 },
 "nbformat": 4,
 "nbformat_minor": 5
}
